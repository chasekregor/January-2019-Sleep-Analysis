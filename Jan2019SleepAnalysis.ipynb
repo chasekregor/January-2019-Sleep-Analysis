{
 "cells": [
  {
   "cell_type": "markdown",
   "metadata": {},
   "source": [
    "\n",
    "### Introduction:\n",
    "I am a big fan on the [Quantified Self Movement](https://en.wikipedia.org/wiki/Quantified_self). Collecting and routinely analyzing my own personal data has enabled me with the ability to understand myself in a much more objective manner. I use a variety of applications and devices to track various data points about myself. In this post I attempt to analyze my sleep last month.\n",
    "\n",
    "### Questions:\n",
    "- What was my average sleep for the month?\n",
    "- What was the distribution and variation in my sleep?\n",
    "- What was the difference in sleep on weekdays versus weekends?\n",
    "- What was the difference in sleep per day of the week?\n"
   ]
  },
  {
   "cell_type": "code",
   "execution_count": 35,
   "metadata": {},
   "outputs": [],
   "source": [
    "%%capture\n",
    "import pandas as pd\n",
    "import numpy as np\n",
    "import altair as alt\n",
    "import seaborn as sns\n",
    "%matplotlib widget\n",
    "import pandas_profiling\n",
    "import datetime\n",
    "import scipy\n",
    "%matplotlib inline"
   ]
  },
  {
   "cell_type": "code",
   "execution_count": 36,
   "metadata": {},
   "outputs": [
    {
     "data": {
      "text/html": [
       "<div>\n",
       "<style scoped>\n",
       "    .dataframe tbody tr th:only-of-type {\n",
       "        vertical-align: middle;\n",
       "    }\n",
       "\n",
       "    .dataframe tbody tr th {\n",
       "        vertical-align: top;\n",
       "    }\n",
       "\n",
       "    .dataframe thead th {\n",
       "        text-align: right;\n",
       "    }\n",
       "</style>\n",
       "<table border=\"1\" class=\"dataframe\">\n",
       "  <thead>\n",
       "    <tr style=\"text-align: right;\">\n",
       "      <th></th>\n",
       "      <th>In bed start</th>\n",
       "      <th>In bed Finish</th>\n",
       "      <th>Minutes in bed</th>\n",
       "    </tr>\n",
       "    <tr>\n",
       "      <th>In bed Finish</th>\n",
       "      <th></th>\n",
       "      <th></th>\n",
       "      <th></th>\n",
       "    </tr>\n",
       "  </thead>\n",
       "  <tbody>\n",
       "    <tr>\n",
       "      <th>2019-01-01 09:27:00</th>\n",
       "      <td>2019-01-01 02:17:00</td>\n",
       "      <td>2019-01-01 09:27:00</td>\n",
       "      <td>430.000000</td>\n",
       "    </tr>\n",
       "    <tr>\n",
       "      <th>2019-01-02 08:31:00</th>\n",
       "      <td>2019-01-02 01:21:00</td>\n",
       "      <td>2019-01-02 08:31:00</td>\n",
       "      <td>430.150632</td>\n",
       "    </tr>\n",
       "    <tr>\n",
       "      <th>2019-01-03 08:20:00</th>\n",
       "      <td>2019-01-03 00:03:00</td>\n",
       "      <td>2019-01-03 08:20:00</td>\n",
       "      <td>497.354967</td>\n",
       "    </tr>\n",
       "    <tr>\n",
       "      <th>2019-01-04 09:00:00</th>\n",
       "      <td>2019-01-04 02:16:00</td>\n",
       "      <td>2019-01-04 09:00:00</td>\n",
       "      <td>403.071597</td>\n",
       "    </tr>\n",
       "    <tr>\n",
       "      <th>2019-01-05 10:31:00</th>\n",
       "      <td>2019-01-05 02:17:00</td>\n",
       "      <td>2019-01-05 10:31:00</td>\n",
       "      <td>494.000000</td>\n",
       "    </tr>\n",
       "  </tbody>\n",
       "</table>\n",
       "</div>"
      ],
      "text/plain": [
       "                           In bed start       In bed Finish  Minutes in bed\n",
       "In bed Finish                                                              \n",
       "2019-01-01 09:27:00 2019-01-01 02:17:00 2019-01-01 09:27:00      430.000000\n",
       "2019-01-02 08:31:00 2019-01-02 01:21:00 2019-01-02 08:31:00      430.150632\n",
       "2019-01-03 08:20:00 2019-01-03 00:03:00 2019-01-03 08:20:00      497.354967\n",
       "2019-01-04 09:00:00 2019-01-04 02:16:00 2019-01-04 09:00:00      403.071597\n",
       "2019-01-05 10:31:00 2019-01-05 02:17:00 2019-01-05 10:31:00      494.000000"
      ]
     },
     "execution_count": 36,
     "metadata": {},
     "output_type": "execute_result"
    }
   ],
   "source": [
    "#importing data from my health app using http://quantifiedself.com/qs-access-app/\n",
    "sleep = pd.read_csv('data/sleep/Sleep Analysis Jan 2019.csv')\n",
    "\n",
    "#converting date column into datetime\n",
    "sleep['In bed start'] = pd.to_datetime(sleep['In bed start'])\n",
    "sleep['In bed Finish'] = pd.to_datetime(sleep['In bed Finish'])\n",
    "\n",
    "#setting the index to the date\n",
    "sleep = sleep.set_index(pd.DatetimeIndex(sleep['In bed Finish']))\n",
    "\n",
    "#ENTER THIS MONTH'S NUMBER HERE TO FILTER FOR THIS MONTH & Year\n",
    "sleep = sleep[sleep.index.month.isin([1]) & sleep.index.year.isin([2019])]\n",
    "\n",
    "#sleep = sleep.sort_values(['In bed Finish'], ascending=[True])\n",
    "\n",
    "#getting only the columns I want\n",
    "sleep = sleep.iloc[:,0:3]\n",
    "sleep.head()"
   ]
  },
  {
   "cell_type": "code",
   "execution_count": 37,
   "metadata": {},
   "outputs": [],
   "source": [
    "sleep['Hours in Bed'] = sleep['Minutes in bed'] / 60.0\n",
    "sleep['bedtime'] = sleep['In bed start'].dt.hour + sleep['In bed start'].dt.minute / 60.0"
   ]
  },
  {
   "cell_type": "code",
   "execution_count": 38,
   "metadata": {},
   "outputs": [
    {
     "data": {
      "text/html": [
       "<div>\n",
       "<style scoped>\n",
       "    .dataframe tbody tr th:only-of-type {\n",
       "        vertical-align: middle;\n",
       "    }\n",
       "\n",
       "    .dataframe tbody tr th {\n",
       "        vertical-align: top;\n",
       "    }\n",
       "\n",
       "    .dataframe thead th {\n",
       "        text-align: right;\n",
       "    }\n",
       "</style>\n",
       "<table border=\"1\" class=\"dataframe\">\n",
       "  <thead>\n",
       "    <tr style=\"text-align: right;\">\n",
       "      <th></th>\n",
       "      <th>In bed start</th>\n",
       "      <th>In bed Finish</th>\n",
       "      <th>Minutes in bed</th>\n",
       "      <th>Hours in Bed</th>\n",
       "      <th>bedtime</th>\n",
       "    </tr>\n",
       "    <tr>\n",
       "      <th>In bed Finish</th>\n",
       "      <th></th>\n",
       "      <th></th>\n",
       "      <th></th>\n",
       "      <th></th>\n",
       "      <th></th>\n",
       "    </tr>\n",
       "  </thead>\n",
       "  <tbody>\n",
       "    <tr>\n",
       "      <th>2019-01-01 09:27:00</th>\n",
       "      <td>2019-01-01 02:17:00</td>\n",
       "      <td>2019-01-01 09:27:00</td>\n",
       "      <td>430.000000</td>\n",
       "      <td>7.166667</td>\n",
       "      <td>2.283333</td>\n",
       "    </tr>\n",
       "    <tr>\n",
       "      <th>2019-01-02 08:31:00</th>\n",
       "      <td>2019-01-02 01:21:00</td>\n",
       "      <td>2019-01-02 08:31:00</td>\n",
       "      <td>430.150632</td>\n",
       "      <td>7.169177</td>\n",
       "      <td>1.350000</td>\n",
       "    </tr>\n",
       "    <tr>\n",
       "      <th>2019-01-03 08:20:00</th>\n",
       "      <td>2019-01-03 00:03:00</td>\n",
       "      <td>2019-01-03 08:20:00</td>\n",
       "      <td>497.354967</td>\n",
       "      <td>8.289249</td>\n",
       "      <td>0.050000</td>\n",
       "    </tr>\n",
       "    <tr>\n",
       "      <th>2019-01-04 09:00:00</th>\n",
       "      <td>2019-01-04 02:16:00</td>\n",
       "      <td>2019-01-04 09:00:00</td>\n",
       "      <td>403.071597</td>\n",
       "      <td>6.717860</td>\n",
       "      <td>2.266667</td>\n",
       "    </tr>\n",
       "    <tr>\n",
       "      <th>2019-01-05 10:31:00</th>\n",
       "      <td>2019-01-05 02:17:00</td>\n",
       "      <td>2019-01-05 10:31:00</td>\n",
       "      <td>494.000000</td>\n",
       "      <td>8.233333</td>\n",
       "      <td>2.283333</td>\n",
       "    </tr>\n",
       "  </tbody>\n",
       "</table>\n",
       "</div>"
      ],
      "text/plain": [
       "                           In bed start       In bed Finish  Minutes in bed  \\\n",
       "In bed Finish                                                                 \n",
       "2019-01-01 09:27:00 2019-01-01 02:17:00 2019-01-01 09:27:00      430.000000   \n",
       "2019-01-02 08:31:00 2019-01-02 01:21:00 2019-01-02 08:31:00      430.150632   \n",
       "2019-01-03 08:20:00 2019-01-03 00:03:00 2019-01-03 08:20:00      497.354967   \n",
       "2019-01-04 09:00:00 2019-01-04 02:16:00 2019-01-04 09:00:00      403.071597   \n",
       "2019-01-05 10:31:00 2019-01-05 02:17:00 2019-01-05 10:31:00      494.000000   \n",
       "\n",
       "                     Hours in Bed   bedtime  \n",
       "In bed Finish                                \n",
       "2019-01-01 09:27:00      7.166667  2.283333  \n",
       "2019-01-02 08:31:00      7.169177  1.350000  \n",
       "2019-01-03 08:20:00      8.289249  0.050000  \n",
       "2019-01-04 09:00:00      6.717860  2.266667  \n",
       "2019-01-05 10:31:00      8.233333  2.283333  "
      ]
     },
     "execution_count": 38,
     "metadata": {},
     "output_type": "execute_result"
    }
   ],
   "source": [
    "sleep.head()"
   ]
  },
  {
   "cell_type": "code",
   "execution_count": 39,
   "metadata": {},
   "outputs": [
    {
     "data": {
      "text/plain": [
       "<matplotlib.axes._subplots.AxesSubplot at 0x1a18491128>"
      ]
     },
     "execution_count": 39,
     "metadata": {},
     "output_type": "execute_result"
    },
    {
     "data": {
      "image/png": "[encoded data removed]",
      "text/plain": [
       "<Figure size 432x288 with 1 Axes>"
      ]
     },
     "metadata": {},
     "output_type": "display_data"
    }
   ],
   "source": [
    "#https://github.com/tuchandra/sleep-analysis/blob/master/spring-sleep-analysis.ipynb\n",
    "\n",
    "dates = sleep['In bed Finish']\n",
    "time_in_bed = []\n",
    "\n",
    "for i in sleep['Minutes in bed']:\n",
    "    time_in_bed.append(i / 60.0)\n",
    "        \n",
    "df = pd.DataFrame(time_in_bed)\n",
    "df.columns = ['Hours in Bed']\n",
    "\n",
    "\n",
    "df.plot()"
   ]
  },
  {
   "cell_type": "markdown",
   "metadata": {},
   "source": [
    "## What was my average sleep for the month? \n",
    "Almost exactly at 8 hours."
   ]
  },
  {
   "cell_type": "code",
   "execution_count": 40,
   "metadata": {},
   "outputs": [
    {
     "data": {
      "text/html": [
       "<div>\n",
       "<style scoped>\n",
       "    .dataframe tbody tr th:only-of-type {\n",
       "        vertical-align: middle;\n",
       "    }\n",
       "\n",
       "    .dataframe tbody tr th {\n",
       "        vertical-align: top;\n",
       "    }\n",
       "\n",
       "    .dataframe thead th {\n",
       "        text-align: right;\n",
       "    }\n",
       "</style>\n",
       "<table border=\"1\" class=\"dataframe\">\n",
       "  <thead>\n",
       "    <tr style=\"text-align: right;\">\n",
       "      <th></th>\n",
       "      <th>count</th>\n",
       "      <th>mean</th>\n",
       "      <th>std</th>\n",
       "      <th>min</th>\n",
       "      <th>25%</th>\n",
       "      <th>50%</th>\n",
       "      <th>75%</th>\n",
       "      <th>max</th>\n",
       "    </tr>\n",
       "  </thead>\n",
       "  <tbody>\n",
       "    <tr>\n",
       "      <th>Hours in Bed</th>\n",
       "      <td>30.0</td>\n",
       "      <td>8.019936</td>\n",
       "      <td>1.358089</td>\n",
       "      <td>4.69825</td>\n",
       "      <td>7.167294</td>\n",
       "      <td>7.961942</td>\n",
       "      <td>8.551076</td>\n",
       "      <td>11.6</td>\n",
       "    </tr>\n",
       "  </tbody>\n",
       "</table>\n",
       "</div>"
      ],
      "text/plain": [
       "              count      mean       std      min       25%       50%  \\\n",
       "Hours in Bed   30.0  8.019936  1.358089  4.69825  7.167294  7.961942   \n",
       "\n",
       "                   75%   max  \n",
       "Hours in Bed  8.551076  11.6  "
      ]
     },
     "execution_count": 40,
     "metadata": {},
     "output_type": "execute_result"
    }
   ],
   "source": [
    "df.describe().transpose()"
   ]
  },
  {
   "cell_type": "markdown",
   "metadata": {},
   "source": [
    "## What was the distribution and variation in my sleep? "
   ]
  },
  {
   "cell_type": "code",
   "execution_count": 41,
   "metadata": {},
   "outputs": [
    {
     "data": {
      "text/plain": [
       "<matplotlib.axes._subplots.AxesSubplot at 0x1a185610b8>"
      ]
     },
     "execution_count": 41,
     "metadata": {},
     "output_type": "execute_result"
    },
    {
     "data": {
      "image/png": "[encoded data removed]",
      "text/plain": [
       "<Figure size 432x288 with 1 Axes>"
      ]
     },
     "metadata": {},
     "output_type": "display_data"
    }
   ],
   "source": [
    "df.plot.hist(bins = 8, range = (3, 11))"
   ]
  },
  {
   "cell_type": "markdown",
   "metadata": {},
   "source": [
    "## What was the difference in sleep on weekdays versus weekends?"
   ]
  },
  {
   "cell_type": "code",
   "execution_count": 42,
   "metadata": {},
   "outputs": [],
   "source": [
    "sleep['day_of_week'] = sleep.index.weekday\n",
    "sleep['day_type'] = sleep['day_of_week'].apply(lambda x: 'Weekend' if x >= 5 else 'Weekday')"
   ]
  },
  {
   "cell_type": "code",
   "execution_count": 43,
   "metadata": {},
   "outputs": [
    {
     "data": {
      "text/plain": [
       "<matplotlib.axes._subplots.AxesSubplot at 0x1a1d0162b0>"
      ]
     },
     "execution_count": 43,
     "metadata": {},
     "output_type": "execute_result"
    },
    {
     "data": {
      "image/png": "[encoded data removed]",
      "text/plain": [
       "<Figure size 432x288 with 1 Axes>"
      ]
     },
     "metadata": {},
     "output_type": "display_data"
    }
   ],
   "source": [
    "sleep.boxplot(column = 'Hours in Bed', by = 'day_type', positions = [2, 1], \n",
    "           vert = True, widths = 0.5)"
   ]
  },
  {
   "cell_type": "markdown",
   "metadata": {},
   "source": [
    "## What was the difference in sleep per day of the week?"
   ]
  },
  {
   "cell_type": "code",
   "execution_count": 44,
   "metadata": {},
   "outputs": [],
   "source": [
    "# Group dataframe by weekday vs. weekend\n",
    "\n",
    "df_weekdays = sleep[sleep.day_of_week < 5]\n",
    "df_weekend = sleep[sleep.day_of_week >= 5]"
   ]
  },
  {
   "cell_type": "code",
   "execution_count": 45,
   "metadata": {},
   "outputs": [
    {
     "data": {
      "text/plain": [
       "<matplotlib.axes._subplots.AxesSubplot at 0x1a1d0d21d0>"
      ]
     },
     "execution_count": 45,
     "metadata": {},
     "output_type": "execute_result"
    },
    {
     "data": {
      "image/png": "[encoded data removed]",
      "text/plain": [
       "<Figure size 432x288 with 1 Axes>"
      ]
     },
     "metadata": {},
     "output_type": "display_data"
    }
   ],
   "source": [
    "# Add a label for day name, to make the boxplot more readable\n",
    "days = {0: 'Monday', 1: 'Tuesday', 2: 'Wednesday', 3: 'Thursday', 4: 'Friday', \n",
    "        5: 'Saturday', 6: 'Sunday'}\n",
    "sleep['day_name'] = sleep['day_of_week'].apply(lambda x: days[x])\n",
    "\n",
    "sleep.boxplot(column = 'Hours in Bed', by = 'day_name', positions = [5, 1, 6, 7, 4, 2, 3], vert = True)"
   ]
  },
  {
   "cell_type": "code",
   "execution_count": 46,
   "metadata": {},
   "outputs": [
    {
     "data": {
      "text/plain": [
       "<matplotlib.axes._subplots.AxesSubplot at 0x1a1d222ef0>"
      ]
     },
     "execution_count": 46,
     "metadata": {},
     "output_type": "execute_result"
    },
    {
     "data": {
      "image/png": "[encoded data removed]",
      "text/plain": [
       "<Figure size 432x288 with 1 Axes>"
      ]
     },
     "metadata": {},
     "output_type": "display_data"
    }
   ],
   "source": [
    "sleep.plot.scatter(x = 'bedtime', y = 'Hours in Bed' )"
   ]
  },
  {
   "cell_type": "markdown",
   "metadata": {},
   "source": [
    "## Final Thoughts and Next Steps:\n",
    "\n",
    "January was a really great month for me sleep wise. I have pretty poor sleep habits as you can see by the times. However, to average 8 hours a night for a whole month is a pretty big win for me. "
   ]
  }
 ],
 "metadata": {
  "kernelspec": {
   "display_name": "Python 3",
   "language": "python",
   "name": "python3"
  },
  "language_info": {
   "codemirror_mode": {
    "name": "ipython",
    "version": 3
   },
   "file_extension": ".py",
   "mimetype": "text/x-python",
   "name": "python",
   "nbconvert_exporter": "python",
   "pygments_lexer": "ipython3",
   "version": "3.7.4"
  }
 },
 "nbformat": 4,
 "nbformat_minor": 2
}
